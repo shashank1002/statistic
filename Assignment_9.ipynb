{
 "cells": [
  {
   "cell_type": "markdown",
   "id": "b575a8e4",
   "metadata": {},
   "source": [
    "1.You are going to play 2 games of chess with an opponent whom you have never played\n",
    "against before (for the sake of this problem). Your opponent is equally likely to be a\n",
    "beginner, intermediate, or a master. Depending on\n",
    "(a) What is your probability of winning the first game?\n",
    "(b) Congratulations: you won the first game! Given this information, what is the probability\n",
    "that you will also win the second game\n",
    "(c) Explain the distinction between assuming that the outcomes of the games are\n",
    "independent and assuming that they are conditionally independent given the opponent’s\n",
    "skill level. Which of these assumptions seems more reasonable, and why?"
   ]
  },
  {
   "cell_type": "markdown",
   "id": "2d5bcdc1",
   "metadata": {},
   "source": [
    "Ans Define W; = { winning the i-th game}.\n",
    "(a)\n",
    "Use LOTP to obtain\n",
    "\n",
    "P(W) = P(W1 | begginer) P(begginer) + P(W1 | intermediate) P(intermediate)+ P(W1 | master) P(master)\n",
    "\n",
    "= 1/3(0.9+0.5+0.3) =17/30\n",
    "\n",
    "\n",
    "\n",
    "(b)\n",
    "\n",
    "Similar as in (a) we get \n",
    "\n",
    "P(W1,W2) = P(W1,W2 | begginer) P(begginer) + P(W1, W2 | intermediate)P(intermediate)+ P(W1, W2|master)P(master) \n",
    "\n",
    "= (W1,W2 | conditionally independent]\n",
    "\n",
    "=1/3(0.9^2 +0.5^2 +0.3^2) = 23/60\n",
    "\n",
    "We finally get\n",
    "\n",
    "P(W2 | W1) - P(W2, W1)/P(W1)=23/34\n",
    "\n",
    "\n",
    "\n",
    "\n",
    "(c) Independence in general means that outcome of one game does not affect the probability of winning in next game. Conditional independence means that outcome of one game verses some rank does not affect the probability of winning in next game which is also verses that rank. Conditional independence is more reasonable here because in general independence, winning the first game can give a information about the rank of a second opponent in some way."
   ]
  }
 ],
 "metadata": {
  "kernelspec": {
   "display_name": "Python 3 (ipykernel)",
   "language": "python",
   "name": "python3"
  },
  "language_info": {
   "codemirror_mode": {
    "name": "ipython",
    "version": 3
   },
   "file_extension": ".py",
   "mimetype": "text/x-python",
   "name": "python",
   "nbconvert_exporter": "python",
   "pygments_lexer": "ipython3",
   "version": "3.9.12"
  }
 },
 "nbformat": 4,
 "nbformat_minor": 5
}
