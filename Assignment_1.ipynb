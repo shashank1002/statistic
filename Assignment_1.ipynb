{
 "cells": [
  {
   "cell_type": "markdown",
   "id": "9a51ebe1",
   "metadata": {},
   "source": [
    "1. Harvard Law School courses often have assigned seating to facilitate the “Socratic method.”\n",
    "Suppose that there are 100 first year Harvard Law students, and each takes two courses:\n",
    "Torts and Contracts. Both are held in the same lecture hall (which has 100 seats), and the\n",
    "seating is uniformly random and independent for the two courses.\n",
    "(a) Find the probability that no one has the same seat for both courses (exactly; you should\n",
    "leave your answer as a sum).\n",
    "(b) Find a simple but accurate approximation to the probability that no one has the same\n",
    "seat for both courses.\n",
    "(c) Find a simple but accurate approximation to the probability that at least two students\n",
    "have the same seat for both courses."
   ]
  },
  {
   "cell_type": "code",
   "execution_count": null,
   "id": "e437c9ef",
   "metadata": {},
   "outputs": [],
   "source": []
  },
  {
   "cell_type": "markdown",
   "id": "a2df9572",
   "metadata": {},
   "source": [
    "2. There are 100 passengers lined up to board an airplane with 100 seats (with each seat\n",
    "assigned to one of the passengers). The first passenger in line crazily decides to sit in a\n",
    "randomly chosen seat (with all seats equally likely). Each subsequent passenger takes his or\n",
    "her assigned seat if available, and otherwise sits in a random available seat. What is the\n",
    "probability that the last passenger in line gets to sit in his or her assigned seat?"
   ]
  },
  {
   "cell_type": "markdown",
   "id": "7c8a3fc0",
   "metadata": {},
   "source": [
    "Answer\n",
    "\n",
    "This is probably the ugliest solution possible to this problem but here goes. Let’s first consider a special case where there are only 2 people (Alice and Bob) and 2 seats on the airplane. Alice picks a seat at random. The only way Bob gets to pick his designated seat is if Alice correctly picks hers. Since there are only 2 choices for Alice she picks her own seat correctly with probability 1/21/2\n",
    "\n",
    "Therefore P(P( Bob gets his seat)=P()=P(Alice chooses her own seat)=1/2)=1/2\n",
    "\n",
    "Now lets consider one more special case where we now have 3 people (Alice, Bob and Carlos) boarding the flight in that order and Alice picking a random seat first up. In this scenario, Carlos gets to sit on his designated seat in one of the following two possibilities:\n",
    "\n",
    "Alice picks her own seat\n",
    "Alice picks Bob’s seat and Bob picks Alice’s seat.\n",
    "In all other cases the probability of Carlos picking his seat is 0. So we have :\n",
    "\n",
    "P(P( Carlos gets his seat )=P()=P( Alice picks her own seat )+P()+P( Alice picks Bob’s seat )∗P()∗P( Bob picks Alice’s seat))\n",
    "\n",
    "This reduces to :\n",
    "\n",
    "P(P( Carlos gets his seat )=1/3+(1/3)∗(1/2)=(1/3+1/6)=1/2."
   ]
  }
 ],
 "metadata": {
  "kernelspec": {
   "display_name": "Python 3 (ipykernel)",
   "language": "python",
   "name": "python3"
  },
  "language_info": {
   "codemirror_mode": {
    "name": "ipython",
    "version": 3
   },
   "file_extension": ".py",
   "mimetype": "text/x-python",
   "name": "python",
   "nbconvert_exporter": "python",
   "pygments_lexer": "ipython3",
   "version": "3.9.12"
  }
 },
 "nbformat": 4,
 "nbformat_minor": 5
}
